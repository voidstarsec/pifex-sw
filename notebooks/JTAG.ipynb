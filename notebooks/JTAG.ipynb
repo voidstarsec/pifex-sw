{
 "cells": [
  {
   "cell_type": "markdown",
   "id": "eb18a28f-1d84-45ed-9860-d2ab1f4120a2",
   "metadata": {},
   "source": [
    "# JTAG\n",
    "## Notebook and Examples"
   ]
  },
  {
   "cell_type": "markdown",
   "id": "d0d6df46-34f7-4ba7-896d-c6c15beac18a",
   "metadata": {},
   "source": [
    "<html xmlns=\"http://www.w3.org/1999/xhtml\" lang=\"\" xml:lang=\"\">\n",
    "<head>\n",
    "  <meta charset=\"utf-8\" />\n",
    "  <meta name=\"generator\" content=\"pandoc\" />\n",
    "  <meta name=\"viewport\" content=\"width=device-width, initial-scale=1.0, user-scalable=yes\" />\n",
    "  <style type=\"text/css\">\n",
    "      code{white-space: pre-wrap;}\n",
    "      span.smallcaps{font-variant: small-caps;}\n",
    "      span.underline{text-decoration: underline;}\n",
    "      div.column{display: inline-block; vertical-align: top; width: 50%;}\n",
    "  </style>\n",
    "</head>\n",
    "<body>\n",
    "<p>JTAG is a hardware interface that was developed to assist developers and testers with low level debugging. JTAG was originally developed for testing integrated circuits and more specifically, sampling IO pins on a target under test. This type of debugging interface allows engineers to test connections on PCBs without needing the probe the physical pin itself. The JTAG interface is controlled via the state machine outlined below:</p>\n",
    "<figure>\n",
    "<img src=\"http://openocd.org/doc-release/doxygen/jtag-state-machine-large.png\" alt=\"JTAG State Machine\" /><figcaption>JTAG State Machine</figcaption>\n",
    "</figure>\n",
    "<p>One of the important things to remember about JTAG at this level is that it involves two registers, the instruction register, and the data register. To utilize these registers, the proper states in the above state machine must be entered using the following interface signals:</p>\n",
    "<table>\n",
    "<colgroup>\n",
    "<col style=\"width: 44%\" />\n",
    "<col style=\"width: 55%\" />\n",
    "</colgroup>\n",
    "<thead>\n",
    "<tr class=\"header\">\n",
    "<th>Line</th>\n",
    "<th>Usage</th>\n",
    "</tr>\n",
    "</thead>\n",
    "<tbody>\n",
    "<tr class=\"odd\">\n",
    "<td>TMS</td>\n",
    "<td>This pin is used to navigate and control the JTAG state machine</td>\n",
    "</tr>\n",
    "<tr class=\"even\">\n",
    "<td>TDI</td>\n",
    "<td>Input pin, used to write data to the target</td>\n",
    "</tr>\n",
    "<tr class=\"odd\">\n",
    "<td>TDO</td>\n",
    "<td>Output pin, Used to read data back out from the target</td>\n",
    "</tr>\n",
    "<tr class=\"even\">\n",
    "<td>TCK</td>\n",
    "<td>Used to determine when data is sampled for all inputs and outputs</td>\n",
    "</tr>\n",
    "<tr class=\"odd\">\n",
    "<td>TRST (Optional)</td>\n",
    "<td>This pin can be used to reset the state machine to the starting state</td>\n",
    "</tr>\n",
    "</tbody>\n",
    "</table>\n",
    "<p>The state machine is navigated using the TMS and TCK lines, while data is written to or read from via TDI and TDO respectively. TMS is sampled on the rising edge of TCK, meaning that the TMS line must be asserted before TCK is toggled to navigate through the state machine. Data is then shifted into the instruction register (IR) or data register (DR) depending on the state of the JTAG state machine. When an operation is completed (or after the update DR/IR phase) the resulting data can be <em>shifted</em> out of DR by entering the <code>Shift-DR</code> state. With these primitives in place, manufacturers can implement whatever features they wish over JTAG.</p>\n",
    "<p>The JTAG standard treats IR and DR as shift registers, and due to this, multiple targets can be daisy-chained together.</p>\n",
    "<figure>\n",
    "<img src=\"https://upload.wikimedia.org/wikipedia/commons/thumb/c/c9/Jtag_chain.svg/654px-Jtag_chain.svg.png\" alt=\"JTAG Daisy Chain\" /><figcaption>JTAG Daisy Chain</figcaption>\n",
    "</figure>\n",
    "<p>In a nutshell, JTAG defines a state machine that is navigated with a minimum of 4 signals. With this state machine in place, end users can write and read from two shift registers, IR and DR.</p>\n",
    "<h5 id=\"jtag-registers\">JTAG Registers</h5>\n",
    "<p>JTAG utilizes two main registers, the instruction register, and the data register. The instruction register is used to determine what function the JTAG controller is about to carry out such as a memory read, or memory write for example. The data register is then used as an additional input to the instruction register, for the previous example, they may be used to provide an address to read from or write to. These registers can vary in size based on their function.</p>\n",
    "<p>To write to a register one would perform the following steps, we’ll use the IR as an example:</p>\n",
    "<ol type=\"1\">\n",
    "<li>Enter <code>Test Logic Reset</code> state (TLR) (This can be done by asserting the <code>TMS</code> line and cycling <code>CLK</code> 5 times)</li>\n",
    "<li>Enter <code>Select IR Scan</code> state</li>\n",
    "<li>Enter <code>Capture IR</code> state</li>\n",
    "<li>Enter <code>Shift IR</code> – This is where we load the data into IR from TDI</li>\n",
    "<li>Enter <code>Exit IR</code> state</li>\n",
    "<li>Enter <code>Update IR</code> state – This stage “latches” the value into IR.</li>\n",
    "</ol>\n",
    "<p>Following this, if there were no data registers required, the operation would be performed, and the result (if any) would be loaded into the data register to be shifted out. However, many instructions require a data register to be filled out as well before operating. In that case, once the data register is written to and updated, the operation will be performed and the result can be shifted out of the data register.</p>\n",
    "<p>Some instructions do not require the DR to be loaded, for example, if we had loaded the <code>IDCODE</code> instruction into IR (1110b), this would load the processor’s IDCODE value into the data register for us to then clock out and read it on <code>TDO</code>. To read the result out of <code>TDO</code>, one would navigate to the <code>Shift-DR</code> state, and clock in 32 bits on <code>TDI</code>, this would cause the data in the data register to be shifted out on the <code>TDO</code> line. See the image below for a visual representation of what would happen if one loaded the IR with the <code>IDCODE</code> instruction</p>\n",
    "<figure>\n",
    "<img src=\"https://www.embecosm.com/appnotes/ean5/images/jtag-architecture-2.png\" alt=\"IDCODE Instruction\" /><figcaption>IDCODE Instruction</figcaption>\n",
    "</figure>\n",
    "<p>It’s important to remember, that <code>IR</code> and <code>DR</code> can be thought of as shift registers, meaning that when we update them with new values, the old values are then shifted out on <code>TDO</code>.</p>\n",
    "<p>The JTAG standard defines the following instruction registers:</p>\n",
    "<ul>\n",
    "<li><code>BYPASS</code>\n",
    "<ul>\n",
    "<li>This instruction connects <code>TDI</code> and <code>TDO</code></li>\n",
    "<li>In the <code>Shift DR</code> state, data is transferred from <code>TDI</code> to <code>TDO</code> with a delay of one <code>TCK</code> cycle</li>\n",
    "<li>0 is loaded into the data register during the <code>Capture DR</code> state</li>\n",
    "<li>This can be used to determine how many devices are in a scan chain</li>\n",
    "</ul></li>\n",
    "<li><code>IDCODE</code>\n",
    "<ul>\n",
    "<li>When loaded the Device Code Id Register is selected as the serial path between TDI and TDO</li>\n",
    "<li>In the Capture-DR state, the 32-bit device ID code is loaded into this shift section</li>\n",
    "<li>In the Shift-DR state, this data is shifted out, least significant bit first</li>\n",
    "</ul></li>\n",
    "<li><strong>Core JTAG Concepts</strong>\n",
    "<ul>\n",
    "<li>The state machine is navigated with 4 signals: <code>TCK</code>,<code>TMS</code>,<code>TDO</code> and <code>TDI</code></li>\n",
    "<li><code>TDI</code> is used to provide input, <code>TDO</code> is used for output</li>\n",
    "<li>Using this state machine data can be shifted into the IR (<code>Shift IR</code>) and the DR (<code>Shift DR</code>)</li>\n",
    "<li>The instruction register (<code>IR</code>) can be thought of as a function, and the data register (<code>DR</code>) can be considered the argument to that function</li>\n",
    "<li>As data is shifted into <code>DR</code> and <code>IR</code>, the previous contents are shifted out on <code>TDO</code></li>\n",
    "<li>Once data is shifted into these registers, an operation can be performed (entirely dependent on host implementation aside from a few reserved instructions)</li>\n",
    "<li>Data is <em>read</em> out of the target by shifting it onto <code>TDO</code> from the data register in the <code>Shift DR</code> state.</li>\n",
    "</ul></li>\n",
    "</ul>\n",
    "<h4 id=\"jtag-for-reverse-engineers\">JTAG for Reverse Engineers</h4>\n",
    "<p>It’s extremely important to have a solid understanding of the protocol fundamentals when approaching something like this from a reverse engineer’s perspective. When reverse engineering hardware (or software) you want to have your ground truth covered since there are always infinite unknowns. These next few sections will go over how we can take advantage of our low-level knowledge of these protocols to assist us on our path to gaining access to hardware level debugging via JTAG. The first thing that we need to do is determine the pinout, and if the pins exposed allow access to the JTAG interface.</p>\n",
    "<h5 id=\"determining-the-pinout\">Determining the pinout</h5>\n",
    "<p>JTAG signal lines are often grouped together, sometimes (if you’re extremely lucky!) you will see one of the following headers:</p>\n",
    "<figure>\n",
    "<img src=\"https://elinux.org/images/4/48/Ti_arm_jtag.jpg\" alt=\"JTAG Headers\" /><figcaption>JTAG Headers</figcaption>\n",
    "</figure>\n",
    "<p>If you find something like this however, it may not have the exact signal groupings, so we will discuss how to determine a pinout if one assumes it’s used for JTAG.</p>\n",
    "<p>When reverse engineering something like this, you want to start with what you know. Since we know that most manufacturers at <em>least</em> implement <code>IDCODE</code> and <code>BYPASS</code> let’s talk about how we can take advantage of those two instructions.</p>\n",
    "<p>If you have identified what you believe to be a potential JTAG header or pinout, but do not know the pins, we can use the behavior of these two registers to determine the pinout.</p>\n",
    "<p>Since the <code>IDCODE</code> register is typically loaded as the default IR, one can test an assumed pinout by doing the following:</p>\n",
    "<ol type=\"1\">\n",
    "<li>Assign roles to potential output pins (TMS, TCK, etc)</li>\n",
    "<li>Enter the <code>Test Logic Reset</code> state</li>\n",
    "<li>Enter the <code>Select DR Scan</code>, <code>Capture DR</code>, <code>Shift DR</code></li>\n",
    "<li>Clock 32 values on <code>TDI</code> and monitor <code>TDO</code> for a valid <code>IDCODE</code> value</li>\n",
    "<li>Check the <code>IDCODE</code> value that you shifted out if it looks valid congratulations! Otherwise, reassign pins and repeat!</li>\n",
    "</ol>\n",
    "<p>In addition to taking advantage of the fact that the <code>IDCODE</code> register is often loaded into the IR by default, we can also utilize the fact that both the IR and DR behave as shift registers, so if we assume a common register length (32 bits often works) we can attempt to brute force the pinout by doing the following:</p>\n",
    "<ol type=\"1\">\n",
    "<li>Assign roles to potential output pins (TMS, TCK,etc)</li>\n",
    "<li>Using these assumed values, enter the <code>Test Logic Reset</code> state</li>\n",
    "<li>Enter the <code>Shift IR</code> state</li>\n",
    "<li>Shift in a unique 32-bit value on <code>TDI</code></li>\n",
    "<li>Continue to shift 1’s on <code>TDI</code> while monitoring for your unique pattern on TDO (be sure to do this as lease 32 times!).</li>\n",
    "<li>If the pattern is discovered, congratulations! Otherwise, choose new assignments for the pins and repeat!</li>\n",
    "</ol>\n",
    "<p>Both of these methods are used by the previously mentioned <a href=\"https://github.com/cyphunk/JTAGenum/blob/master/JTAGenum.sh\">JTAGEnum</a> script, as well as the <a href=\"http://www.grandideastudio.com/jtagulator/\">JTAGULATOR</a>.</p>\n",
    "<h5 id=\"determining-instruction-length\">Determining Instruction Length</h5>\n",
    "<p>Once you have determined the pinout of the target, then the real fun can begin. The next step is to then determine the length of the IR / DR. To do this, starting with IR, enter the <code>Shift IR</code> state and flood the chain with 1’s on <code>TDI</code>, using a large number like 1024 or 4096, and then clock in a 0. Once this has been done, simply continue to clock in 1’s on <code>TDI</code>, counting the number of clock cycles that it takes before a 0 appears on <code>TDO</code>. This will tell you the length of the IR. Once you have that, you can enter the <code>Shift DR</code> state and repeat the process to determine the state of the DR. This is something that <a href=\"http://urjtag.org/\">urjtag</a> does very well.</p>\n",
    "</body>\n",
    "</html>"
   ]
  },
  {
   "cell_type": "markdown",
   "id": "6467b253-844a-4b40-aafb-b2ede6e847c0",
   "metadata": {},
   "source": [
    "# Using go-jtagenum\n",
    "\n",
    "One of the tools that we can use to perform the scans described above is a tool called [go-jtagenum.](https://github.com/gremwell/go-jtagenum), using this tool we can perform botht he IDCODE and BYPASS scans as demonstrated below"
   ]
  },
  {
   "cell_type": "markdown",
   "id": "09c5fd20-54c5-4e06-9c90-495b76fa16e1",
   "metadata": {},
   "source": [
    "## IDCODE Scan\n",
    "\n",
    "The example below demonstrates how to use the ```scan_idcode``` option, the arguments provided are the GPIO pins to be used by the scan as well as a name to be used to reference them in the output, for example:\n",
    "```\n",
    "\"IO_14\":14\n",
    "```\n",
    "Tells the program to use GPIO pin 14 and to refer to it in the results as \"IO_14\""
   ]
  },
  {
   "cell_type": "code",
   "execution_count": 2,
   "id": "12310d30-17aa-4815-8ccd-9bb4250d5757",
   "metadata": {},
   "outputs": [
    {
     "data": {
      "text/plain": [
       "['/bin/bash: line 1: /home/pi/go/bin/go-jtagenum: No such file or directory']"
      ]
     },
     "execution_count": 2,
     "metadata": {},
     "output_type": "execute_result"
    }
   ],
   "source": [
    "!!/home/pi/go/bin/go-jtagenum -pins '{\"IO_14\": 14, \"IO_15\": 15, \"IO_3\": 3, \"IO_2\": 2, \"IO_9\" : 9, \"IO_10\" : 10 }' -command scan_idcode"
   ]
  },
  {
   "cell_type": "markdown",
   "id": "6cad90e3-43db-4388-9c10-166f03df5da3",
   "metadata": {},
   "source": [
    "## BYPASS Scan\n",
    "The example below demonstrates how to use this tool to perform a bypass scan, note that the bypass scan will take much more time than the IDCODE scan"
   ]
  },
  {
   "cell_type": "code",
   "execution_count": null,
   "id": "b6a60f59-3579-4b94-a4fd-84ddd87a3ff5",
   "metadata": {},
   "outputs": [],
   "source": [
    "/home/pi/go/bin/go-jtagenum -pins '{\"IO_14\": 14, \"IO_\": 15, \"IO_3\": 3, \"IO_2\": 2, \"IO_9\" : 9, \"IO_10\" : 10 }' -command scan_bypass"
   ]
  },
  {
   "cell_type": "markdown",
   "id": "b4501e52-c289-419f-8271-5c31b0792b26",
   "metadata": {},
   "source": [
    "# Using UrJTAG\n",
    "\n",
    "[UrJTAG](http://urjtag.org/) is an open source tool designed to allow users to interface with hardware level debug interfaces such as JTAG. It is an invaluable tool when performing black-box reverse engineering of a JTAG tap. The examples below demonstrate how to use it's Python API"
   ]
  },
  {
   "cell_type": "code",
   "execution_count": 7,
   "id": "771f6b7b-7d09-4157-8f1a-03bc7755a5a3",
   "metadata": {},
   "outputs": [
    {
     "ename": "TypeError",
     "evalue": "IFrame.__init__() missing 2 required positional arguments: 'width' and 'height'",
     "output_type": "error",
     "traceback": [
      "\u001b[0;31m---------------------------------------------------------------------------\u001b[0m",
      "\u001b[0;31mTypeError\u001b[0m                                 Traceback (most recent call last)",
      "\u001b[0;32m/tmp/ipykernel_780852/661632445.py\u001b[0m in \u001b[0;36m<module>\u001b[0;34m\u001b[0m\n\u001b[1;32m      1\u001b[0m \u001b[0;31m## URJTAG PYTHON EXAMPLE\u001b[0m\u001b[0;34m\u001b[0m\u001b[0;34m\u001b[0m\u001b[0m\n\u001b[1;32m      2\u001b[0m \u001b[0;32mfrom\u001b[0m \u001b[0mIPython\u001b[0m\u001b[0;34m.\u001b[0m\u001b[0mdisplay\u001b[0m \u001b[0;32mimport\u001b[0m \u001b[0mIFrame\u001b[0m\u001b[0;34m\u001b[0m\u001b[0;34m\u001b[0m\u001b[0m\n\u001b[0;32m----> 3\u001b[0;31m \u001b[0mIFrame\u001b[0m\u001b[0;34m(\u001b[0m\u001b[0;34m\"http://localhost:port/lab1/\"\u001b[0m\u001b[0;34m)\u001b[0m\u001b[0;34m\u001b[0m\u001b[0;34m\u001b[0m\u001b[0m\n\u001b[0m",
      "\u001b[0;31mTypeError\u001b[0m: IFrame.__init__() missing 2 required positional arguments: 'width' and 'height'"
     ]
    }
   ],
   "source": [
    "## URJTAG PYTHON EXAMPLE\n"
   ]
  }
 ],
 "metadata": {
  "kernelspec": {
   "display_name": "Python 3 (ipykernel)",
   "language": "python",
   "name": "python3"
  },
  "language_info": {
   "codemirror_mode": {
    "name": "ipython",
    "version": 3
   },
   "file_extension": ".py",
   "mimetype": "text/x-python",
   "name": "python",
   "nbconvert_exporter": "python",
   "pygments_lexer": "ipython3",
   "version": "3.10.12"
  }
 },
 "nbformat": 4,
 "nbformat_minor": 5
}
