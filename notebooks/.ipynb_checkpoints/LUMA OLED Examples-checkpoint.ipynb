{
 "cells": [
  {
   "cell_type": "markdown",
   "id": "aefc376c-7e70-4632-8b1a-0472510d23b4",
   "metadata": {},
   "source": [
    "# Luma OLED Examples\n",
    "\n",
    "Included with the PiFex is an OLED screen connected via I2C. This screen can be easily interfaced with using the LUMA oled libraries.\n",
    "\n",
    "Luma can be installed via `pip3 install luma.oled` \n",
    "\n",
    "Test your screen by running the example below:"
   ]
  },
  {
   "cell_type": "code",
   "execution_count": 2,
   "id": "d4c64a57-c3da-45ff-a87f-3e43fc51b6b6",
   "metadata": {},
   "outputs": [],
   "source": [
    "from luma.core.interface.serial import i2c, spi, pcf8574\n",
    "from luma.core.interface.parallel import bitbang_6800\n",
    "from luma.core.render import canvas\n",
    "from luma.oled.device import ssd1306, ssd1309, ssd1325, ssd1331, sh1106, sh1107, ws0010\n",
    "\n",
    "serial = i2c(port=3, address=0x3C)\n",
    "device = ssd1306(serial)\n",
    "\n",
    "with canvas(device) as draw:\n",
    "    draw.text((0, 0), \"Hello World\", fill=\"white\")"
   ]
  },
  {
   "cell_type": "markdown",
   "id": "2442c6a5-6428-4c66-9cb0-6557cf890a39",
   "metadata": {},
   "source": [
    "# Running LUMA Examples\n",
    "\n",
    "The [Luma examples](https://github.com/rm-hull/luma.examples) repository contains a **lot** of example code that you can use with your PiFex screen. \n",
    "\n",
    "```bash\n",
    "git clone https://github.com/rm-hull/luma.examples\n",
    "cd luma.examples\n",
    "cd examples\n",
    "```\n",
    "\n",
    "In the examples repository there are a number of interesting scripts, in order to run them on your PiFex board make sure to specify the I2C bus that you specfied in your `config.txt` file. For example, the `clock.py` example can be run as follows\n",
    "\n",
    "```bash\n",
    "pi@voidstar:~/pifex/luma-testing/luma.examples/examples $ python3 clock.py --i2c-port 3\n",
    "```"
   ]
  },
  {
   "cell_type": "code",
   "execution_count": 3,
   "id": "515c8885-ddad-49a1-9575-84b6e2df96cd",
   "metadata": {},
   "outputs": [
    {
     "name": "stdout",
     "output_type": "stream",
     "text": [
      "^C\n"
     ]
    },
    {
     "data": {
      "text/plain": [
       "[]"
      ]
     },
     "execution_count": 3,
     "metadata": {},
     "output_type": "execute_result"
    }
   ],
   "source": [
    "!!python3 /home/pi/pifex/software/luma.examples/examples/clock.py --i2c-port 3"
   ]
  },
  {
   "cell_type": "code",
   "execution_count": null,
   "id": "20bb568d-6bd4-4efd-a42c-3f2b245b0d17",
   "metadata": {},
   "outputs": [],
   "source": []
  }
 ],
 "metadata": {
  "kernelspec": {
   "display_name": "Python 3 (ipykernel)",
   "language": "python",
   "name": "python3"
  },
  "language_info": {
   "codemirror_mode": {
    "name": "ipython",
    "version": 3
   },
   "file_extension": ".py",
   "mimetype": "text/x-python",
   "name": "python",
   "nbconvert_exporter": "python",
   "pygments_lexer": "ipython3",
   "version": "3.9.2"
  }
 },
 "nbformat": 4,
 "nbformat_minor": 5
}
